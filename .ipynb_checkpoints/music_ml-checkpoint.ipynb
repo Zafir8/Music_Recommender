{
 "cells": [
  {
   "cell_type": "code",
   "execution_count": 25,
   "id": "061f3de0-60d5-4114-b1cf-5ae277eee86b",
   "metadata": {
    "scrolled": true
   },
   "outputs": [
    {
     "data": {
      "text/plain": [
       "['music_recommender.joblib']"
      ]
     },
     "execution_count": 25,
     "metadata": {},
     "output_type": "execute_result"
    }
   ],
   "source": [
    "import pandas as pd \n",
    "from sklearn.tree import DecisionTreeClassifier \n",
    "\n",
    "# import the data\n",
    "music_data = pd.read_csv('music.csv')\n",
    "\n",
    "# data consistency\n",
    "X = music_data.drop(columns=['genre'])\n",
    "y = music_data['genre']\n",
    "\n",
    "# train the data using DecisionTreeClassifier \n",
    "model =  DecisionTreeClassifier()\n",
    "model.fit(X,y)\n",
    "\n",
    "# make predictions \n",
    "predictions = model.predict([ [21,1]] )\n",
    "predictions\n"
   ]
  },
  {
   "cell_type": "code",
   "execution_count": null,
   "id": "79cbb066-03b4-4ea3-8b8d-c67900c8ce01",
   "metadata": {},
   "outputs": [],
   "source": []
  },
  {
   "cell_type": "code",
   "execution_count": null,
   "id": "b4956851-b081-474d-b6b6-cc4663515dd3",
   "metadata": {},
   "outputs": [],
   "source": []
  },
  {
   "cell_type": "code",
   "execution_count": null,
   "id": "b9d648c3-71aa-4b9c-ae0e-1084a9ab6b3f",
   "metadata": {},
   "outputs": [],
   "source": []
  }
 ],
 "metadata": {
  "kernelspec": {
   "display_name": "Python 3 (ipykernel)",
   "language": "python",
   "name": "python3"
  },
  "language_info": {
   "codemirror_mode": {
    "name": "ipython",
    "version": 3
   },
   "file_extension": ".py",
   "mimetype": "text/x-python",
   "name": "python",
   "nbconvert_exporter": "python",
   "pygments_lexer": "ipython3",
   "version": "3.12.0"
  }
 },
 "nbformat": 4,
 "nbformat_minor": 5
}
